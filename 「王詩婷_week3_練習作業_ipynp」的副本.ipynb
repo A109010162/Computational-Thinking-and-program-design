{
  "nbformat": 4,
  "nbformat_minor": 0,
  "metadata": {
    "colab": {
      "name": "「王詩婷-week3-練習作業.ipynp」的副本",
      "provenance": [],
      "authorship_tag": "ABX9TyOPAENfgLBU9jJ25YYuzXuH",
      "include_colab_link": true
    },
    "kernelspec": {
      "name": "python3",
      "display_name": "Python 3"
    }
  },
  "cells": [
    {
      "cell_type": "markdown",
      "metadata": {
        "id": "view-in-github",
        "colab_type": "text"
      },
      "source": [
        "<a href=\"https://colab.research.google.com/github/A109010162/Computational-Thinking-and-program-design/blob/main/%E3%80%8C%E7%8E%8B%E8%A9%A9%E5%A9%B7_week3_%E7%B7%B4%E7%BF%92%E4%BD%9C%E6%A5%AD_ipynp%E3%80%8D%E7%9A%84%E5%89%AF%E6%9C%AC.ipynb\" target=\"_parent\"><img src=\"https://colab.research.google.com/assets/colab-badge.svg\" alt=\"Open In Colab\"/></a>"
      ]
    },
    {
      "cell_type": "code",
      "metadata": {
        "id": "s39QH6XEMddi"
      },
      "source": [
        "隨堂練習\r\n"
      ],
      "execution_count": null,
      "outputs": []
    },
    {
      "cell_type": "markdown",
      "metadata": {
        "id": "tsWdBsfmNYtC"
      },
      "source": [
        ""
      ]
    },
    {
      "cell_type": "markdown",
      "metadata": {
        "id": "Qw8MYB52NIgL"
      },
      "source": [
        ""
      ]
    },
    {
      "cell_type": "code",
      "metadata": {
        "id": "PEGlHKxQNfJo"
      },
      "source": [
        ""
      ],
      "execution_count": null,
      "outputs": []
    },
    {
      "cell_type": "markdown",
      "metadata": {
        "id": "K3Rjn16ANrC7"
      },
      "source": [
        "# 隨堂練習\r\n"
      ]
    },
    {
      "cell_type": "markdown",
      "metadata": {
        "id": "sC96OyWBNKjC"
      },
      "source": [
        "認識電腦\r\n",
        "1.要解決問題，先發現問題\r\n",
        "2.發現問題後，要先定義問題與分析目的\r\n",
        "3.電腦程式執行的邏輯有三種：序列、決策、重複\r\n",
        "\r\n",
        "\r\n"
      ]
    },
    {
      "cell_type": "markdown",
      "metadata": {
        "id": "BUcLjRCoOJD5"
      },
      "source": [
        "#課後練習"
      ]
    },
    {
      "cell_type": "markdown",
      "metadata": {
        "id": "W3Ve2RXuN6nq"
      },
      "source": [
        "###課後練習則為從一則新聞報導，提出你對新聞系（OO系）學生為什麼要學「運算思維與程式設計」的見解。（告訴我新聞連結，以及你的觀點即可。）\r\n"
      ]
    },
    {
      "cell_type": "markdown",
      "metadata": {
        "id": "0buIB0BwcRaD"
      },
      "source": [
        "https://www.twreporter.org/a/opinion-data-journalist\r\n",
        "一般新聞記者取代性高，然而「資料」記者仍是業界所重視的人才。運用運算思維與程式設計能精確地從數據找新聞點，也可以幫助讀者更快了解新聞內容了解新聞內容"
      ]
    }
  ]
}