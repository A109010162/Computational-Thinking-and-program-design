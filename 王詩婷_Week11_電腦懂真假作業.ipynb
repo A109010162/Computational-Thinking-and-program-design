{
  "nbformat": 4,
  "nbformat_minor": 0,
  "metadata": {
    "kernelspec": {
      "display_name": "Python 3",
      "language": "python",
      "name": "python3"
    },
    "language_info": {
      "codemirror_mode": {
        "name": "ipython",
        "version": 3
      },
      "file_extension": ".py",
      "mimetype": "text/x-python",
      "name": "python",
      "nbconvert_exporter": "python",
      "pygments_lexer": "ipython3",
      "version": "3.8.5"
    },
    "colab": {
      "name": "王詩婷- Week11 - 電腦懂真假作業.ipynb",
      "provenance": [],
      "include_colab_link": true
    }
  },
  "cells": [
    {
      "cell_type": "markdown",
      "metadata": {
        "id": "view-in-github",
        "colab_type": "text"
      },
      "source": [
        "<a href=\"https://colab.research.google.com/github/A109010162/Computational-Thinking-and-program-design/blob/main/%E7%8E%8B%E8%A9%A9%E5%A9%B7_Week11_%E9%9B%BB%E8%85%A6%E6%87%82%E7%9C%9F%E5%81%87%E4%BD%9C%E6%A5%AD.ipynb\" target=\"_parent\"><img src=\"https://colab.research.google.com/assets/colab-badge.svg\" alt=\"Open In Colab\"/></a>"
      ]
    },
    {
      "cell_type": "markdown",
      "metadata": {
        "id": "ByrpvOcKg64H"
      },
      "source": [
        "## 1. 布林值\n",
        "\n",
        "### 1-1 真值與假值"
      ]
    },
    {
      "cell_type": "code",
      "metadata": {
        "id": "DMwleAaNg64N",
        "colab": {
          "base_uri": "https://localhost:8080/",
          "height": 131
        },
        "outputId": "3559e6dc-587c-4b14-9dae-c2663fbfde6f"
      },
      "source": [
        "In [1]: ## 布林只有 True 與 False 這兩個值。\n",
        "   ...: True\n",
        "   ...: False\n",
        "    \n",
        "In [2]: ## 請注意大小寫不同\n",
        "   ...: true\n",
        "   ...: false\n",
        "   ...: TRUE\n",
        "   ...: FALSE\n",
        "Traceback (most recent call last):\n",
        "\n",
        "  File \"<ipython-input-2-7729cf8819e0>\", line 6, in <module>\n",
        "    true\n",
        "\n",
        "NameError: name 'true' is not defined\n",
        "\n",
        "In [3]: ## 查看資料的種類\n",
        "   ...: type(True)\n",
        "   ...: type(False)\n",
        "bool\n",
        "bool"
      ],
      "execution_count": 1,
      "outputs": [
        {
          "output_type": "error",
          "ename": "SyntaxError",
          "evalue": "ignored",
          "traceback": [
            "\u001b[0;36m  File \u001b[0;32m\"<ipython-input-1-80ab3025890d>\"\u001b[0;36m, line \u001b[0;32m10\u001b[0m\n\u001b[0;31m    Traceback (most recent call last):\u001b[0m\n\u001b[0m                         ^\u001b[0m\n\u001b[0;31mSyntaxError\u001b[0m\u001b[0;31m:\u001b[0m invalid syntax\n"
          ]
        }
      ]
    },
    {
      "cell_type": "code",
      "metadata": {
        "id": "qIxntMBtg64O"
      },
      "source": [
        ""
      ],
      "execution_count": null,
      "outputs": []
    },
    {
      "cell_type": "markdown",
      "metadata": {
        "id": "fCj02cBWg64O"
      },
      "source": [
        "### 1-2 建立布林值與數學運算\n",
        "\n",
        "#### 建立布林值"
      ]
    },
    {
      "cell_type": "code",
      "metadata": {
        "id": "SVSNwSROg64O",
        "colab": {
          "base_uri": "https://localhost:8080/"
        },
        "outputId": "d9fbf1cd-adff-486b-f70e-177418b65133"
      },
      "source": [
        "In [1]: ## 方法（一）：直接鍵入True或False\n",
        "   ...: True\n",
        "   ...: False\n",
        "True\n",
        "False\n",
        "\n",
        "In [2]: ## 方法（二）：用bool()函式建立。\n",
        "   ...: bool(1)\n",
        "   ...: bool(0)\n",
        "True\n",
        "False"
      ],
      "execution_count": 5,
      "outputs": [
        {
          "output_type": "execute_result",
          "data": {
            "text/plain": [
              "False"
            ]
          },
          "metadata": {
            "tags": []
          },
          "execution_count": 5
        }
      ]
    },
    {
      "cell_type": "code",
      "metadata": {
        "id": "u-redR_Eg64R",
        "colab": {
          "base_uri": "https://localhost:8080/"
        },
        "outputId": "92339582-0fc7-46e7-c683-2a93e51fed1b"
      },
      "source": [
        " False + 5\n",
        " True + 5"
      ],
      "execution_count": 18,
      "outputs": [
        {
          "output_type": "execute_result",
          "data": {
            "text/plain": [
              "6"
            ]
          },
          "metadata": {
            "tags": []
          },
          "execution_count": 18
        }
      ]
    },
    {
      "cell_type": "markdown",
      "metadata": {
        "id": "a9uF-DaCg64R"
      },
      "source": [
        "### 1-2 建立布林值與數學運算\n",
        "\n",
        "#### 布林值可視為數值資料做數學運算"
      ]
    },
    {
      "cell_type": "code",
      "metadata": {
        "id": "UPeUkdHwoP5s"
      },
      "source": [
        ""
      ],
      "execution_count": null,
      "outputs": []
    },
    {
      "cell_type": "code",
      "metadata": {
        "id": "HL_eboQUg64R"
      },
      "source": [
        "In [2]: ## True 跟數值 1 相等； False 跟數值 0 相等。\n",
        "   ...: False == 0\n",
        "   ...: True == 1\n",
        "True\n",
        "True\n",
        "\n",
        "In [3]: ## 數值運算中可以納入了布林。\n",
        "   ...: False + 3 # False為0\n",
        "   ...: True + 3 # True為1\n",
        "3\n",
        "4"
      ],
      "execution_count": null,
      "outputs": []
    },
    {
      "cell_type": "code",
      "metadata": {
        "id": "ufZ2zhYcg64S"
      },
      "source": [
        ""
      ],
      "execution_count": null,
      "outputs": []
    },
    {
      "cell_type": "markdown",
      "metadata": {
        "id": "85VdKOSdg64S"
      },
      "source": [
        "## 2. 關係條件比較\n",
        "\n",
        "### 2-1 布林條件判斷式"
      ]
    },
    {
      "cell_type": "code",
      "metadata": {
        "id": "ED8Eii4Gg64S"
      },
      "source": [
        "In [1]: player_score = 0 # 這會把0放入變數Player_score\n",
        "   ...: player_score == 0 # 這會檢查player_Scor裡的值是否為0\n",
        "Out[1]: True\n",
        "    \n",
        "In [2]: name = \"Zoe\" # 將變數name設為值Zoe\n",
        "   ...: name == \"zoe\"\n",
        "Out[2]: False   "
      ],
      "execution_count": null,
      "outputs": []
    },
    {
      "cell_type": "code",
      "metadata": {
        "id": "g0NWQgPxg64T",
        "colab": {
          "base_uri": "https://localhost:8080/"
        },
        "outputId": "7f249a31-1f2e-4340-8f1d-57a96b4d4cd0"
      },
      "source": [
        "練習\n",
        "player_score = 0\n",
        "player_score == 0\n",
        "\n",
        "name =\"Zoe\"\n",
        "name ==\"zoe\"\n"
      ],
      "execution_count": 25,
      "outputs": [
        {
          "output_type": "execute_result",
          "data": {
            "text/plain": [
              "False"
            ]
          },
          "metadata": {
            "tags": []
          },
          "execution_count": 25
        }
      ]
    },
    {
      "cell_type": "markdown",
      "metadata": {
        "id": "AsS6RWHgg64T"
      },
      "source": [
        "### 2-2 關係運算子\n",
        "\n",
        "常見的關係運算子共有六個==、!=、>、>=、<、<=。"
      ]
    },
    {
      "cell_type": "code",
      "metadata": {
        "id": "6frBKnuOg64T"
      },
      "source": [
        "In [1]: ## 布林（一）：比較關係運算子 = 比較運算子 = 關係運算子\n",
        "   ...: ## 比較運算子用於比較兩數的大於、小於和等於關係。\n",
        "   ...: \n",
        "   ...: print(8 == 7) # 判斷 8 是否等於 7，請注意不要混淆＝和==。\n",
        "   ...: print(8 != 7) # 判斷 8 是否不等於 7\n",
        "   ...: print(8 > 7) # 判斷 8 是否大於 7\n",
        "   ...: print(8 >= 7) # 判斷 8 是否大於等於 7\n",
        "   ...: print(8 < 7) # 判斷 8 是否小於 7\n",
        "   ...: print(8 <= 7) # 判斷 8 是否小於等於 7\n",
        "False\n",
        "True\n",
        "True\n",
        "True\n",
        "False\n",
        "False"
      ],
      "execution_count": null,
      "outputs": []
    },
    {
      "cell_type": "code",
      "metadata": {
        "id": "XwqfJXVMg64T"
      },
      "source": [
        ""
      ],
      "execution_count": null,
      "outputs": []
    },
    {
      "cell_type": "code",
      "metadata": {
        "id": "QAeSTL84g64T"
      },
      "source": [
        "In [8]: ## 資料篩選\n",
        "   ...: ## 電腦評分是否高於8分\n",
        "   ...: \n",
        "   ...: movie_rating = 8.8\n",
        "   ...: print(movie_rating > 8.0)\n",
        "   ...: print(type(movie_rating > 8.0))\n",
        "True\n",
        "<class 'bool'>"
      ],
      "execution_count": null,
      "outputs": []
    },
    {
      "cell_type": "code",
      "metadata": {
        "id": "C5aoYV1Bg64U"
      },
      "source": [
        ""
      ],
      "execution_count": null,
      "outputs": []
    },
    {
      "cell_type": "markdown",
      "metadata": {
        "id": "BuV4Ix2_g64U"
      },
      "source": [
        "**隨堂練習 1：請輸入身分證字號，並判斷尾數是否為奇數?** "
      ]
    },
    {
      "cell_type": "code",
      "metadata": {
        "id": "wEaZ9Eovg64U"
      },
      "source": [
        "練習\n",
        "number = input(\"Enter the last digit of ID card: \")\n",
        "number = int(number)\n",
        "number = (number % 2 ==1)\n",
        "ans = int(\"id_last_digit\") %2 ==1\n",
        "print(\"身分證尾數除以2是否為1\")\n"
      ],
      "execution_count": null,
      "outputs": []
    },
    {
      "cell_type": "markdown",
      "metadata": {
        "id": "4ufE99stg64U"
      },
      "source": [
        "## 3. 邏輯的運算\n",
        "\n",
        "### 3-2 邏輯運算子\n",
        "\n",
        "**邏輯運算子有三種運算子，and（而且）、or（或）、not（相反）。**"
      ]
    },
    {
      "cell_type": "code",
      "metadata": {
        "id": "ThYnflC-g64U"
      },
      "source": [
        "## 三種邏輯運算子（一）:且(and)\n",
        "In [1]: print(True and False) # 判斷 True 與 False 的交集\n",
        "   ...: print(True and True)\n",
        "   ...: print(False and False)\n",
        "   ...: print(False and True)\n",
        "   ...: \n",
        "False\n",
        "True\n",
        "False\n",
        "False"
      ],
      "execution_count": null,
      "outputs": []
    },
    {
      "cell_type": "code",
      "metadata": {
        "id": "117NqFKkg64V"
      },
      "source": [
        "練習\n",
        "print(True and False)\n",
        "print(True and True)\n",
        "print(False and False)\n",
        "print(False and True)"
      ],
      "execution_count": null,
      "outputs": []
    },
    {
      "cell_type": "code",
      "metadata": {
        "id": "PpQ0huRDg64V"
      },
      "source": [
        "## 三種邏輯運算子（二）:或(or)\n",
        "In [2]: print(True or False) # 判斷 True 與 False 的聯集\n",
        "   ...: print(True or True)\n",
        "   ...: print(False or False)\n",
        "   ...: print(False or True)\n",
        "True\n",
        "True\n",
        "False\n",
        "True"
      ],
      "execution_count": null,
      "outputs": []
    },
    {
      "cell_type": "code",
      "metadata": {
        "id": "0FJKqlRTg64V"
      },
      "source": [
        ""
      ],
      "execution_count": null,
      "outputs": []
    },
    {
      "cell_type": "code",
      "metadata": {
        "id": "qoQOC_8Vg64V"
      },
      "source": [
        "## 三種邏輯運算子（三）:非(not)。\n",
        "In [3]: print(not True) # False\n",
        "   ...: print(not False) # True\n",
        "   ...: print(not(8 > 7)) # 反轉 8 是否大於 7 的判斷\n",
        "False\n",
        "True\n",
        "False"
      ],
      "execution_count": null,
      "outputs": []
    },
    {
      "cell_type": "code",
      "metadata": {
        "id": "PDYgb8ryg64V"
      },
      "source": [
        ""
      ],
      "execution_count": null,
      "outputs": []
    },
    {
      "cell_type": "code",
      "metadata": {
        "id": "TOvQCGU-g64V"
      },
      "source": [
        "In [8]: x = 70\n",
        "\n",
        "In [9]: ((x > 60) and (x < 80))\n",
        "Out[9]: True\n",
        "\n",
        "In [10]: x = 60\n",
        "\n",
        "In [11]: ((x > 60) and (x < 80))\n",
        "Out[11]: False\n",
        "\n",
        "In [12]: ((x > 60) or (x < 80))\n",
        "Out[12]: True\n",
        "\n",
        "In [13]: not(x > 60)\n",
        "Out[13]: True"
      ],
      "execution_count": null,
      "outputs": []
    },
    {
      "cell_type": "code",
      "metadata": {
        "id": "o84MvMVlg64W"
      },
      "source": [
        ""
      ],
      "execution_count": null,
      "outputs": []
    },
    {
      "cell_type": "markdown",
      "metadata": {
        "id": "AcqWPb1Yg64W"
      },
      "source": [
        "### 3-3 成員與身份運算子"
      ]
    },
    {
      "cell_type": "code",
      "metadata": {
        "id": "jqgRhaxqg64W"
      },
      "source": [
        " In [1]: ## 成員運算子\n",
        "    ...: ## 文字字串\n",
        "    ...: print(\"H\" in \"Hello world\") # 判斷H是否存在於Hello world 之中\n",
        "True\n",
        "\n",
        " In [2]: ## 數字串列\n",
        "    ...: x = 1\n",
        "    ...: y = [1,2,3]\n",
        "    ...: print(x in y)\n",
        "    ...: print(x not in y)\n",
        "True\n",
        "False"
      ],
      "execution_count": null,
      "outputs": []
    },
    {
      "cell_type": "code",
      "metadata": {
        "id": "vO3AKbEhg64W"
      },
      "source": [
        ""
      ],
      "execution_count": null,
      "outputs": []
    },
    {
      "cell_type": "code",
      "metadata": {
        "id": "5IjWzNOLg64X"
      },
      "source": [
        "In [3]: x = [1,2,3]\n",
        "    ...: y = [1,2,3]\n",
        "    ...: print(id(x),id(y)) #x 與y 的位址不同\n",
        "    ...: print(x is y) #x與y在電腦有不同的記憶空間，所以x是x、y是y。\n",
        "    ...: print(x == y) # x 與y 的值相等，True\n",
        "2303536791616 2303537806912\n",
        "False\n",
        "True"
      ],
      "execution_count": null,
      "outputs": []
    },
    {
      "cell_type": "code",
      "metadata": {
        "id": "jkX_8_rwg64X"
      },
      "source": [
        ""
      ],
      "execution_count": null,
      "outputs": []
    }
  ]
}